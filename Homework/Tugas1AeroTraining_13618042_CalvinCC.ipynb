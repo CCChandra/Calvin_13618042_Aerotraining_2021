{
 "cells": [
  {
   "cell_type": "markdown",
   "id": "7b69fa09",
   "metadata": {},
   "source": [
    "# Tugas1AeroTraining_13618042_CalvinCC"
   ]
  },
  {
   "cell_type": "markdown",
   "id": "59303610",
   "metadata": {},
   "source": [
    "# Jawaban Soal 1"
   ]
  },
  {
   "cell_type": "code",
   "execution_count": null,
   "id": "f488826c",
   "metadata": {},
   "outputs": [],
   "source": [
    "for Angka in range(1,101):\n",
    "    if Angka%3 == 0 and Angka%5 == 0:\n",
    "        print(\"FizzBuzz\")\n",
    "    elif Angka%3 == 0:\n",
    "        print(\"Fizz\")\n",
    "    elif Angka%5 == 0:\n",
    "        print(\"Buzz\")\n",
    "    else:\n",
    "        print(Angka)"
   ]
  },
  {
   "cell_type": "markdown",
   "id": "e7bf9ccd",
   "metadata": {},
   "source": [
    "# Jawaban Soal 2"
   ]
  },
  {
   "cell_type": "code",
   "execution_count": null,
   "id": "cbdf424d",
   "metadata": {},
   "outputs": [],
   "source": [
    "s = input(\"Masukkan Suatu Kalimat : \")\n",
    "s = s.lower()\n",
    "Jumlah_Karakter = len(s)\n",
    "\n",
    "if Jumlah_Karakter == 0:\n",
    "    print(\"Masukin Kalimatlah Euy\")\n",
    "elif Jumlah_Karakter%2 == 0:\n",
    "    Setengah_Genap = (Jumlah_Karakter//2)-1\n",
    "    for Check in range(Setengah_Genap+1):\n",
    "        if s[Check] != s[-(Check+1)]:\n",
    "            Bool = \"No\"\n",
    "            break\n",
    "        else:\n",
    "            Bool = \"Yes\"\n",
    "    print(Bool)\n",
    "else:\n",
    "    Setengah_Ganjil = (Jumlah_Karakter//2)\n",
    "    for Check in range(Setengah_Ganjil):\n",
    "        if s[Check] != s[-(Check+1)]:\n",
    "            Bool = \"No\"\n",
    "            break\n",
    "        else:\n",
    "            Bool = \"Yes\"\n",
    "    print(Bool)"
   ]
  }
 ],
 "metadata": {
  "kernelspec": {
   "display_name": "Python 3",
   "language": "python",
   "name": "python3"
  },
  "language_info": {
   "codemirror_mode": {
    "name": "ipython",
    "version": 3
   },
   "file_extension": ".py",
   "mimetype": "text/x-python",
   "name": "python",
   "nbconvert_exporter": "python",
   "pygments_lexer": "ipython3",
   "version": "3.8.8"
  }
 },
 "nbformat": 4,
 "nbformat_minor": 5
}
